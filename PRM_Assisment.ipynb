{
  "nbformat": 4,
  "nbformat_minor": 0,
  "metadata": {
    "colab": {
      "provenance": [],
      "include_colab_link": true
    },
    "kernelspec": {
      "name": "python3",
      "display_name": "Python 3"
    },
    "language_info": {
      "name": "python"
    }
  },
  "cells": [
    {
      "cell_type": "markdown",
      "metadata": {
        "id": "view-in-github",
        "colab_type": "text"
      },
      "source": [
        "<a href=\"https://colab.research.google.com/github/rohitbodke/PRM-Assisment.ipynb/blob/main/PRM_Assisment.ipynb\" target=\"_parent\"><img src=\"https://colab.research.google.com/assets/colab-badge.svg\" alt=\"Open In Colab\"/></a>"
      ]
    },
    {
      "cell_type": "markdown",
      "source": [
        "Please write about yourself starting from education to what you are doing right now!"
      ],
      "metadata": {
        "id": "scx2LgtGHI6c"
      }
    },
    {
      "cell_type": "markdown",
      "source": [
        "My full name is rohit siddharth bodke . Basically i am from maharashtra in nashik district but currentlly i am staying in sinnar.\n",
        "my job responsiblity is Researching data,collecting data and Analyzing data using the data to guide the business decision making. Currently i am doing in Data Science course in Edyoda Classroom But last month I have Resign this job because my class timing and my working timing is same so i have not possible to attained the class in regularly and curently i am not working person so I loking for a job.\n",
        "My Hobbies is listening songs and Traveling\n",
        "My strenth are i am responsible and positive person,i am good at multitasking\n",
        "my weakness I Trust Everyone easily"
      ],
      "metadata": {
        "id": "kBBY2RnXgutc"
      }
    },
    {
      "cell_type": "code",
      "source": [],
      "metadata": {
        "id": "bXy8cQ0ySIct"
      },
      "execution_count": null,
      "outputs": []
    },
    {
      "cell_type": "markdown",
      "source": [
        "ATM Project details"
      ],
      "metadata": {
        "id": "XuHNEKZhB1yX"
      }
    },
    {
      "cell_type": "markdown",
      "source": [
        "About ATM Project\n",
        "   ATM Machine project is written in Python language . The project file contains a python script (ATM_machine.py). This is a simple console based system which is very easy to use. Talking about the system, it contains limited functions which only includes create_pin, Depositing amount withdraw amount,check_balance. Here, first user create pin next procedure you can Access the Depositing amount withdraw amount,check_balance.\n",
        "i.e asking pin number. When a user enter a correct pin he/she can use the features. It is too easy to use, he/she just has to enter the amount whether in deposit section or the withdraw section. The system calculates the total remaining balance of the respective account press only the chech_balance button and displays to the user.\n",
        "This  ATM system provides the simple account balance management of a respective account. It contains more features but the essential one. There is no database connection or neither any external text or other files used in this mini project to save user’s data. After each transaction using the system, the system redirects the user to the use the five step and \n",
        "\n",
        "                    1.Enter 1 to create pin\n",
        "                    2.Enter 2 to deposit\n",
        "                    3.enter 3 to withdraw\n",
        "                    4.Enter 4 to check balance\n",
        "                    5.Enter 5 to exit\n",
        "user use this five step the he/she perform any operation.\n",
        "and this five steps are Features of a project.\n",
        " "
      ],
      "metadata": {
        "id": "RCA0lEnJHDdW"
      }
    }
  ]
}